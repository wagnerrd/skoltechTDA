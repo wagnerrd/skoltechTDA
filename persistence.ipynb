{
 "cells": [
  {
   "cell_type": "code",
   "execution_count": 17,
   "metadata": {},
   "outputs": [],
   "source": [
    "import pandas as pd\n",
    "import numpy as np\n",
    "import pickle\n",
    "import scipy.interpolate as interp\n",
    "from scipy.spatial import distance_matrix\n",
    "import scipy.io\n",
    "from ripser import ripser, plot_dgms\n",
    "import os\n",
    "import struct\n",
    "import matplotlib.pyplot as plt"
   ]
  },
  {
   "cell_type": "code",
   "execution_count": 2,
   "metadata": {},
   "outputs": [],
   "source": [
    "path = '/home/robert/forex'\n",
    "filename = path + '/data/currency/forex.pkl'\n",
    "pkl_file = open(filename, 'rb')\n",
    "data = pickle.load(pkl_file)\n",
    "pkl_file.close()"
   ]
  },
  {
   "cell_type": "code",
   "execution_count": 3,
   "metadata": {},
   "outputs": [
    {
     "name": "stdout",
     "output_type": "stream",
     "text": [
      "<class 'pandas.core.frame.DataFrame'>\n",
      "DatetimeIndex: 1482097 entries, 2007-01-01 20:00:00 to 2010-12-31 14:59:00\n",
      "Data columns (total 16 columns):\n",
      "USDJPY_M1_2009    343456 non-null float32\n",
      "USDCAD_M1_2010    325765 non-null float32\n",
      "EURUSD_M1_2010    352320 non-null float32\n",
      "USDCAD_M1_2007    246689 non-null float32\n",
      "USDCAD_M1_2008    276953 non-null float32\n",
      "USDJPY_M1_2010    328836 non-null float32\n",
      "GBPUSD_M1_2008    332167 non-null float32\n",
      "EURUSD_M1_2009    355880 non-null float32\n",
      "GBPUSD_M1_2009    354178 non-null float32\n",
      "USDJPY_M1_2008    348226 non-null float32\n",
      "USDJPY_M1_2007    322788 non-null float32\n",
      "EURUSD_M1_2008    347355 non-null float32\n",
      "EURUSD_M1_2007    299782 non-null float32\n",
      "GBPUSD_M1_2010    348663 non-null float32\n",
      "USDCAD_M1_2009    313683 non-null float32\n",
      "GBPUSD_M1_2007    306750 non-null float32\n",
      "dtypes: float32(16)\n",
      "memory usage: 101.8 MB\n"
     ]
    }
   ],
   "source": [
    "data.info()"
   ]
  },
  {
   "cell_type": "code",
   "execution_count": 4,
   "metadata": {},
   "outputs": [],
   "source": [
    "# Fixes missing values. I'll probably do mean interpolation eventually, but not yet\n",
    "def fixna(ts):\n",
    "    return ts[~np.isnan(ts)]"
   ]
  },
  {
   "cell_type": "code",
   "execution_count": 5,
   "metadata": {},
   "outputs": [],
   "source": [
    "def getSlidingWindow(x, dim, Tau, dT):\n",
    "    '''\n",
    "    This function takes time series x (without time-part)\n",
    "    and returns a massive X, which has sliding windows as columns\n",
    "    dim=3, Tau=5, dT=2 on range() object yields:\n",
    "    [0, 5, 10]\n",
    "    [2, 7, 12]\n",
    "    [4, 11, 14] etc.\n",
    "    '''\n",
    "    N = len(x)\n",
    "    NWindows = int(np.floor((N-dim*Tau)/dT)) # The number of windows\n",
    "    if NWindows <= 0:\n",
    "        print(\"Error: Tau too large for signal extent\")\n",
    "        return np.zeros((3, dim))\n",
    "    X = np.zeros((NWindows, dim)) # Create a 2D array which will store all windows\n",
    "    idx = np.arange(N)\n",
    "    for i in range(NWindows):\n",
    "        # Figure out the indices of the samples in this window\n",
    "        idxx = dT*i + Tau*np.arange(dim)\n",
    "        start = int(np.floor(idxx[0]))\n",
    "        end = int(np.ceil(idxx[-1]))+2\n",
    "        if end > len(x):\n",
    "            X = X[0:i, :]\n",
    "            break\n",
    "        # Do spline interpolation to fill in this window, and place\n",
    "        # it in the resulting array\n",
    "        X[i, :] = x[idxx] #interp.spline(idx[start:end+1], x[start:end+1], idxx)\n",
    "    return X"
   ]
  },
  {
   "cell_type": "code",
   "execution_count": 36,
   "metadata": {},
   "outputs": [],
   "source": [
    "# This function takes in a large time series along with index of window start, length of window\n",
    "# returns +1 for increase one day after end of series, -1 for decrease or level values, along with window\n",
    "# return None for end of December\n",
    "def classify(timeseries, index, sectionlength=1440):\n",
    "    daylength = 1440\n",
    "    dim = 4\n",
    "    Tau = 15\n",
    "    dT = 4\n",
    "    if len(timeseries) < index + sectionlength + daylength:\n",
    "        return 0, None\n",
    "    section = timeseries.iloc[index:index+sectionlength]\n",
    "    sectionendval = section.iloc[-1]\n",
    "    futureval = timeseries.iloc[index+sectionlength+daylength]\n",
    "    increase = futureval - sectionendval\n",
    "    slidingwindow = getSlidingWindow(section.values, dim, Tau, dT)\n",
    "    if increase > 0:\n",
    "        return 1, slidingwindow\n",
    "    else:\n",
    "        return -1, slidingwindow"
   ]
  },
  {
   "cell_type": "code",
   "execution_count": 37,
   "metadata": {},
   "outputs": [],
   "source": [
    "sectionlength = 1440\n",
    "ts = data['EURUSD_M1_2009']\n",
    "cleants = fixna(ts)\n",
    "window = []\n",
    "for i in range(0, len(cleants)-sectionlength, sectionlength):\n",
    "    window.append(classify(cleants, i))"
   ]
  },
  {
   "cell_type": "code",
   "execution_count": 40,
   "metadata": {},
   "outputs": [
    {
     "data": {
      "text/plain": [
       "(345, 4)"
      ]
     },
     "execution_count": 40,
     "metadata": {},
     "output_type": "execute_result"
    }
   ],
   "source": [
    "window[1][1].shape"
   ]
  },
  {
   "cell_type": "code",
   "execution_count": 31,
   "metadata": {},
   "outputs": [
    {
     "data": {
      "text/plain": [
       "[<matplotlib.lines.Line2D at 0x7f7571fc6860>]"
      ]
     },
     "execution_count": 31,
     "metadata": {},
     "output_type": "execute_result"
    },
    {
     "data": {
      "image/png": "[encoded data removed]",
      "text/plain": [
       "<Figure size 640x480 with 1 Axes>"
      ]
     },
     "metadata": {},
     "output_type": "display_data"
    }
   ],
   "source": [
    "plt.plot(data['EURUSD_M1_2009'])"
   ]
  },
  {
   "cell_type": "code",
   "execution_count": 6,
   "metadata": {},
   "outputs": [],
   "source": [
    "temp = data['USDJPY_M1_2007'].iloc[1000:1000+1440].values\n",
    "temp = fixna(temp)"
   ]
  },
  {
   "cell_type": "code",
   "execution_count": 7,
   "metadata": {},
   "outputs": [],
   "source": [
    "window = getSlidingWindow(temp, 4, 15, 4)\n",
    "dist_mat = distance_matrix(window, window)"
   ]
  },
  {
   "cell_type": "code",
   "execution_count": 12,
   "metadata": {},
   "outputs": [],
   "source": [
    "filtration = ripser(window)['dgms']"
   ]
  },
  {
   "cell_type": "code",
   "execution_count": 13,
   "metadata": {
    "scrolled": false
   },
   "outputs": [
    {
     "data": {
      "image/png": "[encoded data removed]",
      "text/plain": [
       "<Figure size 640x480 with 1 Axes>"
      ]
     },
     "metadata": {},
     "output_type": "display_data"
    }
   ],
   "source": [
    "plot_dgms(filtration)"
   ]
  },
  {
   "cell_type": "code",
   "execution_count": 14,
   "metadata": {},
   "outputs": [
    {
     "data": {
      "text/plain": [
       "[array([[0.        , 0.00999451],\n",
       "        [0.        , 0.01000214],\n",
       "        [0.        , 0.01000214],\n",
       "        [0.        , 0.01000214],\n",
       "        [0.        , 0.01413976],\n",
       "        [0.        , 0.01413976],\n",
       "        [0.        , 0.01413976],\n",
       "        [0.        , 0.01413976],\n",
       "        [0.        , 0.01413976],\n",
       "        [0.        , 0.01413976],\n",
       "        [0.        , 0.01414516],\n",
       "        [0.        , 0.01414516],\n",
       "        [0.        , 0.01414516],\n",
       "        [0.        , 0.01414516],\n",
       "        [0.        , 0.01414516],\n",
       "        [0.        , 0.0173154 ],\n",
       "        [0.        , 0.0173154 ],\n",
       "        [0.        , 0.0173198 ],\n",
       "        [0.        , 0.0173198 ],\n",
       "        [0.        , 0.0173198 ],\n",
       "        [0.        , 0.0173198 ],\n",
       "        [0.        , 0.0173198 ],\n",
       "        [0.        , 0.01732421],\n",
       "        [0.        , 0.01732421],\n",
       "        [0.        , 0.01732421],\n",
       "        [0.        , 0.01999664],\n",
       "        [0.        , 0.01999664],\n",
       "        [0.        , 0.01999664],\n",
       "        [0.        , 0.01999664],\n",
       "        [0.        , 0.02000046],\n",
       "        [0.        , 0.02000427],\n",
       "        [0.        , 0.02235522],\n",
       "        [0.        , 0.02235522],\n",
       "        [0.        , 0.02235522],\n",
       "        [0.        , 0.02235863],\n",
       "        [0.        , 0.02235863],\n",
       "        [0.        , 0.02235863],\n",
       "        [0.        , 0.02235863],\n",
       "        [0.        , 0.02236546],\n",
       "        [0.        , 0.02236546],\n",
       "        [0.        , 0.02236546],\n",
       "        [0.        , 0.02236546],\n",
       "        [0.        , 0.02236546],\n",
       "        [0.        , 0.02449079],\n",
       "        [0.        , 0.02449079],\n",
       "        [0.        , 0.0244939 ],\n",
       "        [0.        , 0.0244939 ],\n",
       "        [0.        , 0.0244939 ],\n",
       "        [0.        , 0.0244939 ],\n",
       "        [0.        , 0.0244939 ],\n",
       "        [0.        , 0.02449702],\n",
       "        [0.        , 0.02449702],\n",
       "        [0.        , 0.02449702],\n",
       "        [0.        , 0.02450013],\n",
       "        [0.        , 0.02450013],\n",
       "        [0.        , 0.02450013],\n",
       "        [0.        , 0.02450013],\n",
       "        [0.        , 0.02450013],\n",
       "        [0.        , 0.02450013],\n",
       "        [0.        , 0.02645452],\n",
       "        [0.        , 0.02645452],\n",
       "        [0.        , 0.02645452],\n",
       "        [0.        , 0.02645452],\n",
       "        [0.        , 0.02645452],\n",
       "        [0.        , 0.02645452],\n",
       "        [0.        , 0.02645452],\n",
       "        [0.        , 0.02645452],\n",
       "        [0.        , 0.0264574 ],\n",
       "        [0.        , 0.02646028],\n",
       "        [0.        , 0.02646028],\n",
       "        [0.        , 0.02646028],\n",
       "        [0.        , 0.02646028],\n",
       "        [0.        , 0.02646317],\n",
       "        [0.        , 0.02646317],\n",
       "        [0.        , 0.02646317],\n",
       "        [0.        , 0.02646317],\n",
       "        [0.        , 0.02827952],\n",
       "        [0.        , 0.02827952],\n",
       "        [0.        , 0.02827952],\n",
       "        [0.        , 0.02828492],\n",
       "        [0.        , 0.02829031],\n",
       "        [0.        , 0.02829031],\n",
       "        [0.        , 0.02999369],\n",
       "        [0.        , 0.02999624],\n",
       "        [0.        , 0.02999624],\n",
       "        [0.        , 0.02999878],\n",
       "        [0.        , 0.02999878],\n",
       "        [0.        , 0.02999878],\n",
       "        [0.        , 0.02999878],\n",
       "        [0.        , 0.02999878],\n",
       "        [0.        , 0.03000132],\n",
       "        [0.        , 0.03000132],\n",
       "        [0.        , 0.03000132],\n",
       "        [0.        , 0.03000132],\n",
       "        [0.        , 0.03000641],\n",
       "        [0.        , 0.03000641],\n",
       "        [0.        , 0.03161747],\n",
       "        [0.        , 0.03161988],\n",
       "        [0.        , 0.03162229],\n",
       "        [0.        , 0.03162229],\n",
       "        [0.        , 0.03162229],\n",
       "        [0.        , 0.03162471],\n",
       "        [0.        , 0.03162471],\n",
       "        [0.        , 0.03162953],\n",
       "        [0.        , 0.03316413],\n",
       "        [0.        , 0.03316643],\n",
       "        [0.        , 0.03316643],\n",
       "        [0.        , 0.03316643],\n",
       "        [0.        , 0.03316643],\n",
       "        [0.        , 0.03317333],\n",
       "        [0.        , 0.03464181],\n",
       "        [0.        , 0.03464401],\n",
       "        [0.        , 0.03605052],\n",
       "        [0.        , 0.03605264],\n",
       "        [0.        , 0.03605264],\n",
       "        [0.        , 0.03605264],\n",
       "        [0.        , 0.03605475],\n",
       "        [0.        , 0.03605475],\n",
       "        [0.        , 0.03605687],\n",
       "        [0.        , 0.03606322],\n",
       "        [0.        , 0.03741233],\n",
       "        [0.        , 0.03741437],\n",
       "        [0.        , 0.03741437],\n",
       "        [0.        , 0.03741641],\n",
       "        [0.        , 0.03741845],\n",
       "        [0.        , 0.03741845],\n",
       "        [0.        , 0.03742253],\n",
       "        [0.        , 0.03742253],\n",
       "        [0.        , 0.03872432],\n",
       "        [0.        , 0.03872629],\n",
       "        [0.        , 0.03872629],\n",
       "        [0.        , 0.03872826],\n",
       "        [0.        , 0.03872826],\n",
       "        [0.        , 0.03872826],\n",
       "        [0.        , 0.03872826],\n",
       "        [0.        , 0.03872826],\n",
       "        [0.        , 0.03872826],\n",
       "        [0.        , 0.03873023],\n",
       "        [0.        , 0.0387322 ],\n",
       "        [0.        , 0.0387322 ],\n",
       "        [0.        , 0.0387322 ],\n",
       "        [0.        , 0.04123061],\n",
       "        [0.        , 0.04123061],\n",
       "        [0.        , 0.04123061],\n",
       "        [0.        , 0.04123246],\n",
       "        [0.        , 0.04123246],\n",
       "        [0.        , 0.04123246],\n",
       "        [0.        , 0.04123246],\n",
       "        [0.        , 0.04123246],\n",
       "        [0.        , 0.04123616],\n",
       "        [0.        , 0.04123616],\n",
       "        [0.        , 0.04241928],\n",
       "        [0.        , 0.04242288],\n",
       "        [0.        , 0.04242288],\n",
       "        [0.        , 0.04242288],\n",
       "        [0.        , 0.04242288],\n",
       "        [0.        , 0.04242468],\n",
       "        [0.        , 0.04242468],\n",
       "        [0.        , 0.04242468],\n",
       "        [0.        , 0.04242468],\n",
       "        [0.        , 0.04242468],\n",
       "        [0.        , 0.04242648],\n",
       "        [0.        , 0.04242648],\n",
       "        [0.        , 0.04242648],\n",
       "        [0.        , 0.04242648],\n",
       "        [0.        , 0.04242828],\n",
       "        [0.        , 0.04243008],\n",
       "        [0.        , 0.04243008],\n",
       "        [0.        , 0.04358955],\n",
       "        [0.        , 0.04471897],\n",
       "        [0.        , 0.04472068],\n",
       "        [0.        , 0.04472068],\n",
       "        [0.        , 0.04472409],\n",
       "        [0.        , 0.04582389],\n",
       "        [0.        , 0.04582556],\n",
       "        [0.        , 0.04582722],\n",
       "        [0.        , 0.04582722],\n",
       "        [0.        , 0.04582722],\n",
       "        [0.        , 0.04582889],\n",
       "        [0.        , 0.04582889],\n",
       "        [0.        , 0.04690442],\n",
       "        [0.        , 0.04690605],\n",
       "        [0.        , 0.04690605],\n",
       "        [0.        , 0.04690767],\n",
       "        [0.        , 0.0469093 ],\n",
       "        [0.        , 0.04795901],\n",
       "        [0.        , 0.0489878 ],\n",
       "        [0.        , 0.0489878 ],\n",
       "        [0.        , 0.04999695],\n",
       "        [0.        , 0.04999847],\n",
       "        [0.        , 0.05000458],\n",
       "        [0.        , 0.05099361],\n",
       "        [0.        , 0.05195941],\n",
       "        [0.        , 0.05195941],\n",
       "        [0.        , 0.05196235],\n",
       "        [0.        , 0.05196235],\n",
       "        [0.        , 0.05196528],\n",
       "        [0.        , 0.05291047],\n",
       "        [0.        , 0.05385324],\n",
       "        [0.        , 0.05385465],\n",
       "        [0.        , 0.05477003],\n",
       "        [0.        , 0.05477003],\n",
       "        [0.        , 0.05477142],\n",
       "        [0.        , 0.05477142],\n",
       "        [0.        , 0.05477142],\n",
       "        [0.        , 0.05656984],\n",
       "        [0.        , 0.05744329],\n",
       "        [0.        , 0.05744727],\n",
       "        [0.        , 0.05744727],\n",
       "        [0.        , 0.05830497],\n",
       "        [0.        , 0.05831151],\n",
       "        [0.        , 0.05999629],\n",
       "        [0.        , 0.06082808],\n",
       "        [0.        , 0.06082933],\n",
       "        [0.        , 0.06164246],\n",
       "        [0.        , 0.06164741],\n",
       "        [0.        , 0.06165236],\n",
       "        [0.        , 0.06324217],\n",
       "        [0.        , 0.063247  ],\n",
       "        [0.        , 0.06402705],\n",
       "        [0.        , 0.06481183],\n",
       "        [0.        , 0.06633747],\n",
       "        [0.        , 0.06707931],\n",
       "        [0.        , 0.06782091],\n",
       "        [0.        , 0.0685545 ],\n",
       "        [0.        , 0.06855673],\n",
       "        [0.        , 0.06855895],\n",
       "        [0.        , 0.07070744],\n",
       "        [0.        , 0.07211056],\n",
       "        [0.        , 0.0721148 ],\n",
       "        [0.        , 0.07279883],\n",
       "        [0.        , 0.07279883],\n",
       "        [0.        , 0.07348378],\n",
       "        [0.        , 0.07415931],\n",
       "        [0.        , 0.07745947],\n",
       "        [0.        , 0.07746243],\n",
       "        [0.        , 0.07810355],\n",
       "        [0.        , 0.08123896],\n",
       "        [0.        , 0.08123989],\n",
       "        [0.        , 0.08307204],\n",
       "        [0.        , 0.08543507],\n",
       "        [0.        , 0.08543686],\n",
       "        [0.        , 0.08602478],\n",
       "        [0.        , 0.08887947],\n",
       "        [0.        , 0.09327   ],\n",
       "        [0.        , 0.0948701 ],\n",
       "        [0.        , 0.09591326],\n",
       "        [0.        , 0.09643496],\n",
       "        [0.        , 0.09695464],\n",
       "        [0.        , 0.09949853],\n",
       "        [0.        , 0.09949853],\n",
       "        [0.        , 0.10098867],\n",
       "        [0.        , 0.1053537 ],\n",
       "        [0.        , 0.11358026],\n",
       "        [0.        , 0.11575607],\n",
       "        [0.        , 0.11874694],\n",
       "        [0.        ,        inf]]), array([[0.20149808, 0.2090463 ],\n",
       "        [0.17832257, 0.18165877],\n",
       "        [0.13152914, 0.13378809],\n",
       "        [0.12728004, 0.13152914],\n",
       "        [0.12409558, 0.18708532],\n",
       "        [0.11401714, 0.11916104],\n",
       "        [0.10246757, 0.13304052],\n",
       "        [0.09695621, 0.1118075 ],\n",
       "        [0.09695148, 0.10816567],\n",
       "        [0.08366564, 0.08366746],\n",
       "        [0.07873849, 0.08306653],\n",
       "        [0.07071715, 0.07873849],\n",
       "        [0.07070744, 0.0883192 ],\n",
       "        [0.06999861, 0.07348378],\n",
       "        [0.06782766, 0.08366655],\n",
       "        [0.06708727, 0.07681098],\n",
       "        [0.06633057, 0.06782766],\n",
       "        [0.06403539, 0.06481183],\n",
       "        [0.06403182, 0.10816637],\n",
       "        [0.06164246, 0.06244744],\n",
       "        [0.06083309, 0.06557792],\n",
       "        [0.06000264, 0.06856006],\n",
       "        [0.06000264, 0.06164493],\n",
       "        [0.06000264, 0.06928582],\n",
       "        [0.0600001 , 0.06480359],\n",
       "        [0.05830889, 0.07141886],\n",
       "        [0.05291768, 0.06480477],\n",
       "        [0.05291768, 0.05916054],\n",
       "        [0.05291047, 0.05291335],\n",
       "        [0.05099062, 0.05567995],\n",
       "        [0.05098613, 0.06000137],\n",
       "        [0.05098463, 0.05291768],\n",
       "        [0.05000152, 0.05099062],\n",
       "        [0.05000152, 0.05000458],\n",
       "        [0.04999847, 0.05477142],\n",
       "        [0.04999695, 0.05291191],\n",
       "        [0.04899403, 0.05744329],\n",
       "        [0.04690767, 0.04999847],\n",
       "        [0.04689791, 0.05385324],\n",
       "        [0.04583222, 0.05385465],\n",
       "        [0.04582722, 0.05477142],\n",
       "        [0.04582556, 0.04690442],\n",
       "        [0.04472068, 0.06000646],\n",
       "        [0.04471897, 0.06164122],\n",
       "        [0.04243008, 0.04472068],\n",
       "        [0.04242828, 0.04899092],\n",
       "        [0.04242828, 0.05      ],\n",
       "        [0.04242828, 0.04795424],\n",
       "        [0.0387322 , 0.04242288],\n",
       "        [0.03872826, 0.0435878 ],\n",
       "        [0.03872629, 0.04582556],\n",
       "        [0.03872629, 0.04123246],\n",
       "        [0.03742049, 0.04242648],\n",
       "        [0.03741641, 0.03872826],\n",
       "        [0.03741437, 0.04243008],\n",
       "        [0.03741233, 0.0479622 ],\n",
       "        [0.03605898, 0.03873023],\n",
       "        [0.03605898, 0.03873417],\n",
       "        [0.03605687, 0.03741437],\n",
       "        [0.03605264, 0.03873023],\n",
       "        [0.03464181, 0.0387322 ],\n",
       "        [0.03316643, 0.03605052],\n",
       "        [0.03162471, 0.03317333],\n",
       "        [0.03162229, 0.03872432],\n",
       "        [0.03161988, 0.03605264],\n",
       "        [0.03000641, 0.03741845],\n",
       "        [0.03000387, 0.03162229],\n",
       "        [0.03000132, 0.03316643]])]"
      ]
     },
     "execution_count": 14,
     "metadata": {},
     "output_type": "execute_result"
    }
   ],
   "source": [
    "filtration"
   ]
  },
  {
   "cell_type": "code",
   "execution_count": 10,
   "metadata": {},
   "outputs": [
    {
     "name": "stdout",
     "output_type": "stream",
     "text": [
      "447 ms ± 12.6 ms per loop (mean ± std. dev. of 7 runs, 1 loop each)\n"
     ]
    }
   ],
   "source": [
    "import matlab.engine\n",
    "eng = matlab.engine.start_matlab()\n",
    "%timeit eng.save_distance_matrix(matlab.double(dist_mat.tolist()), './temp', nargout=0)\n",
    "eng.quit()"
   ]
  },
  {
   "cell_type": "code",
   "execution_count": 11,
   "metadata": {},
   "outputs": [
    {
     "name": "stdout",
     "output_type": "stream",
     "text": [
      "31.4 s ± 8.39 s per loop (mean ± std. dev. of 7 runs, 1 loop each)\n"
     ]
    }
   ],
   "source": [
    "%timeit os.system('dipha --upper_dim 2 temp out')"
   ]
  },
  {
   "cell_type": "code",
   "execution_count": null,
   "metadata": {},
   "outputs": [],
   "source": [
    "# Look into making it sparse"
   ]
  }
 ],
 "metadata": {
  "kernelspec": {
   "display_name": "Python 3",
   "language": "python",
   "name": "python3"
  },
  "language_info": {
   "codemirror_mode": {
    "name": "ipython",
    "version": 3
   },
   "file_extension": ".py",
   "mimetype": "text/x-python",
   "name": "python",
   "nbconvert_exporter": "python",
   "pygments_lexer": "ipython3",
   "version": "3.6.5"
  }
 },
 "nbformat": 4,
 "nbformat_minor": 2
}
