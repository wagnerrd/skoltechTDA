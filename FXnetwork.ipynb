{
 "cells": [
  {
   "cell_type": "code",
   "execution_count": 20,
   "metadata": {},
   "outputs": [
    {
     "name": "stdout",
     "output_type": "stream",
     "text": [
      "Populating the interactive namespace from numpy and matplotlib\n"
     ]
    }
   ],
   "source": [
    "import os\n",
    "import sys\n",
    "import numpy as np\n",
    "import time\n",
    "import pickle\n",
    "\n",
    "import torch\n",
    "import torch.nn as nn\n",
    "import torch.nn.functional as F\n",
    "from torch.autograd import Variable\n",
    "from torch.nn.parameter import Parameter\n",
    "\n",
    "from collections import defaultdict\n",
    "from sklearn.metrics import accuracy_score\n",
    "from sklearn.model_selection import StratifiedShuffleSplit\n",
    "from sklearn.preprocessing.label import LabelEncoder\n",
    "\n",
    "from torch import Tensor, LongTensor\n",
    "from torch.utils.data import DataLoader, Sampler\n",
    "from torch import optim\n",
    "from torch.optim.lr_scheduler import ExponentialLR, LambdaLR\n",
    "\n",
    "from IPython.display import clear_output\n",
    "%pylab inline\n",
    "\n",
    "from slayer_mod import SLayer\n",
    "#from provider import _data_setup\n",
    "from train_functions import *"
   ]
  },
  {
   "cell_type": "code",
   "execution_count": 21,
   "metadata": {},
   "outputs": [],
   "source": [
    "cuda_n = 0\n",
    "\n",
    "params = {\n",
    "        'data_path': None,\n",
    "        'epochs': 300,\n",
    "        'momentum': 0.7,\n",
    "        'lr_start': .001,\n",
    "        'lr_ep_step': 10,\n",
    "        'lr_adaption': 0.001,\n",
    "        'test_ratio': 0.1,\n",
    "        'batch_size': 8,\n",
    "        'cuda': False,\n",
    "        'cuda_device_id' : cuda_n,\n",
    "    }"
   ]
  },
  {
   "cell_type": "code",
   "execution_count": 22,
   "metadata": {},
   "outputs": [],
   "source": [
    "# Our data is in the form [dim0cls0, dim0cls1, dim1cls0, dim1cls1] where dim0cls0 is a list of arrays\n",
    "\n",
    "datapath = '/home/robert/forex/data/tda/tests/persistences_hrly_5-3-3-2.pkl'\n",
    "input = open(datapath, 'rb')\n",
    "data = pickle.load(file=input)"
   ]
  },
  {
   "cell_type": "code",
   "execution_count": 23,
   "metadata": {},
   "outputs": [],
   "source": [
    "'''\n",
    "# We combine 0th and 1st dimensional homologies\n",
    "cls0 = []\n",
    "cls1 = []\n",
    "for i in range(len(data[0])):\n",
    "    cls0.append(np.concatenate((data[0][i], data[2][i]), axis=0))\n",
    "for i in range(len(data[1])):\n",
    "    cls1.append(np.concatenate((data[1][i], data[3][i]), axis=0))\n",
    "'''\n",
    "# Need just one list of arrays along with list of classes\n",
    "# Right now, we are only working with 1D homologies\n",
    "classes = []\n",
    "# for i in range(len(data[0])):\n",
    "#     classes.append(0)\n",
    "# for i in range(len(data[1])):\n",
    "#     classes.append(1)\n",
    "for i in range(len(data[2])):\n",
    "    classes.append(0)\n",
    "for i in range(len(data[3])):\n",
    "    classes.append(1)\n",
    "\n",
    "# alldata = data[0] + data[1] + data[2] + data[3]\n",
    "alldata = data[2] + data[3]\n",
    "alldata = [torch.from_numpy(x) for x in alldata]\n",
    "classes = [torch.from_numpy(numpy.array(x)) for x in classes]"
   ]
  },
  {
   "cell_type": "code",
   "execution_count": 24,
   "metadata": {},
   "outputs": [
    {
     "data": {
      "text/plain": [
       "86701"
      ]
     },
     "execution_count": 24,
     "metadata": {},
     "output_type": "execute_result"
    }
   ],
   "source": [
    "len(alldata)"
   ]
  },
  {
   "cell_type": "code",
   "execution_count": 25,
   "metadata": {},
   "outputs": [],
   "source": [
    "from sklearn.model_selection import train_test_split\n",
    "\n",
    "X_train, X_test, y_train, y_test = train_test_split(alldata, classes, test_size=0.33, random_state=42)"
   ]
  },
  {
   "cell_type": "code",
   "execution_count": 26,
   "metadata": {},
   "outputs": [],
   "source": [
    "y_train = torch.Tensor(y_train).long()\n",
    "y_test = torch.Tensor(y_test).long()"
   ]
  },
  {
   "cell_type": "code",
   "execution_count": 27,
   "metadata": {},
   "outputs": [],
   "source": [
    "batch_size = params['batch_size']\n",
    "\n",
    "train_data = [(X_train[i:i+batch_size], y_train[i:i+batch_size]) for i in range(0, len(y_train), batch_size)] # Batch size of 7\n",
    "test_data = [(X_test[i:i+batch_size], y_test[i:i+batch_size]) for i in range(0, len(y_test), batch_size)] # Batch size of 7"
   ]
  },
  {
   "cell_type": "code",
   "execution_count": 28,
   "metadata": {},
   "outputs": [],
   "source": [
    "# Get rid of troublesome single-batches\n",
    "train_data = train_data[:-1]\n",
    "test_data = test_data[:-1]"
   ]
  },
  {
   "cell_type": "code",
   "execution_count": 29,
   "metadata": {},
   "outputs": [],
   "source": [
    "class FXnet(torch.nn.Module):\n",
    "    def __init__(self, n_elements, n_classes):\n",
    "        super().__init__()\n",
    "        \n",
    "        self.slayer = SLayer(n_elements=n_elements, point_dimension=2) # Outputs batch_size x n_elements tensor\n",
    "        \n",
    "        self.stage1 = torch.nn.Sequential(\n",
    "            nn.Linear(n_elements, 16),\n",
    "            nn.BatchNorm1d(num_features=16),\n",
    "            nn.ReLU(),\n",
    "            nn.Linear(16, 16),\n",
    "            nn.BatchNorm1d(num_features=16),\n",
    "            nn.ReLU(),\n",
    "            nn.Linear(16, 4),\n",
    "            nn.BatchNorm1d(num_features=4),\n",
    "            nn.ReLU())            \n",
    "            # nn.Dropout(0,4))\n",
    "        \n",
    "        self.fc = nn.Linear(4, n_classes)\n",
    "        \n",
    "    def forward(self, input):\n",
    "        x = self.slayer(input)\n",
    "        x = self.stage1(x)\n",
    "        x = self.fc(x)\n",
    "        return x"
   ]
  },
  {
   "cell_type": "code",
   "execution_count": 30,
   "metadata": {},
   "outputs": [],
   "source": [
    "def train_one_epoch(model, optimizer, train_data, params, criterion, variable_created_by_model):\n",
    "    \n",
    "    # training\n",
    "    train_loss = []\n",
    "    train_preds = []\n",
    "    train_targets = []\n",
    "    model.train(True)\n",
    "    for item in train_data: # size of batch is one multiset?\n",
    "        batch_input, batch_target = item\n",
    "        # transform input to tensor\n",
    "        # batch_input, batch_target = data_typing(batch_input, batch_target, params)\n",
    "        \n",
    "        # if not variable_created_by_model:\n",
    "        #     batch_input = Variable(batch_input)\n",
    "        # batch_target = Variable(batch_target)\n",
    "        # print(batch_input, batch_target)\n",
    "        \n",
    "        start_time = time.time()\n",
    "        optimizer.zero_grad()\n",
    "        batch_output = model(batch_input)\n",
    "        # print(\"forward pass - {:3f}s\".format(time.time() - start_time))\n",
    "        loss = criterion(batch_output, batch_target)\n",
    "        # print('loss: ', loss.item())\n",
    "        loss.backward()\n",
    "        optimizer.step()\n",
    "        \n",
    "        train_loss.append(loss.item())\n",
    "        train_preds.extend(list(compute_labels(batch_output)))\n",
    "        train_targets.extend(list(batch_target.cpu().data.numpy()))\n",
    "    \n",
    "    return train_loss, train_preds, train_targets"
   ]
  },
  {
   "cell_type": "code",
   "execution_count": 31,
   "metadata": {},
   "outputs": [],
   "source": [
    "model = FXnet(8, 2)\n",
    "optimizer = optim.SGD(model.parameters(),\n",
    "                      lr=params['lr_start'], \n",
    "                      momentum=params['momentum'])\n",
    "criterion=nn.CrossEntropyLoss()"
   ]
  },
  {
   "cell_type": "code",
   "execution_count": 32,
   "metadata": {},
   "outputs": [],
   "source": [
    "def train(model, optimizer, train_data, val_data, params, metric=accuracy_score, criterion=nn.CrossEntropyLoss(), variable_created_by_model=True):\n",
    "    \n",
    "    mean_train_loss = []\n",
    "    mean_val_loss = []\n",
    "    mean_train_metric = []\n",
    "    mean_val_metric = []\n",
    "\n",
    "    scheduler = LambdaLR(optimizer, lr_lambda=lambda epoch: 0.5 ** (epoch // params[\"lr_ep_step\"]))\n",
    "    \n",
    "    for epoch in range(params[\"epochs\"]):\n",
    "        epoch_start_time = time.time()\n",
    "        \n",
    "        scheduler.step()\n",
    "        print(\"current lr = {}\".format(scheduler.get_lr()[0]))\n",
    "        \n",
    "        start_time = time.time()\n",
    "        train_loss, train_preds, train_targets = train_one_epoch(\n",
    "            model, optimizer, train_data, params, criterion, variable_created_by_model)\n",
    "        print(\"train epoch - {:.3f}s\".format(time.time() - start_time))\n",
    "        start_time = time.time()\n",
    "        val_loss, val_preds, val_targets = validate(\n",
    "            model, val_data, params, criterion, variable_created_by_model)\n",
    "        print(\"validate - {:3f}s\".format(time.time() - start_time))\n",
    "\n",
    "        # print the results for this epoch:\n",
    "        mean_train_loss.append(np.mean(train_loss))\n",
    "        mean_val_loss.append(np.mean(val_loss))\n",
    "        mean_train_metric.append(metric(train_targets, train_preds))\n",
    "        mean_val_metric.append(metric(val_targets, val_preds))\n",
    "        \n",
    "        clear_output(True)\n",
    "        plt.figure(figsize=(10, 5))\n",
    "        plt.subplot(121)\n",
    "        plt.plot(mean_train_loss)\n",
    "        plt.plot(mean_val_loss)\n",
    "        plt.subplot(122)\n",
    "        plt.plot(mean_train_metric)\n",
    "        plt.plot(mean_val_metric)\n",
    "        plt.gca().set_ylim([0, 1])\n",
    "        plt.show()\n",
    "        print(\"Epoch {} of {} took {:.3f}s\".format(\n",
    "            epoch + 1, params[\"epochs\"], time.time() - epoch_start_time))\n",
    "        print(\"  training loss (in-iteration): \\t{:.6f}\".format(mean_train_loss[-1]))\n",
    "        print(\"  validation loss: \\t\\t\\t{:.6f}\".format(mean_val_loss[-1]))\n",
    "        print(\"  training metric: \\t\\t\\t{:.2f}\".format(mean_train_metric[-1]))\n",
    "        print(\"  validation metric: \\t\\t\\t{:.2f}\".format(mean_val_metric[-1]))\n",
    "        \n",
    "#         if mean_train_loss[-1] < epsilon:\n",
    "#             break\n",
    "\n",
    "    return mean_train_loss, mean_val_loss, mean_train_metric, mean_val_metric"
   ]
  },
  {
   "cell_type": "code",
   "execution_count": 33,
   "metadata": {},
   "outputs": [
    {
     "data": {
      "image/png": "[encoded data removed]",
      "text/plain": [
       "<Figure size 720x360 with 2 Axes>"
      ]
     },
     "metadata": {},
     "output_type": "display_data"
    },
    {
     "name": "stdout",
     "output_type": "stream",
     "text": [
      "Epoch 9 of 300 took 29.192s\n",
      "  training loss (in-iteration): \t0.689018\n",
      "  validation loss: \t\t\t0.689530\n",
      "  training metric: \t\t\t0.55\n",
      "  validation metric: \t\t\t0.54\n",
      "current lr = 0.001\n"
     ]
    },
    {
     "ename": "KeyboardInterrupt",
     "evalue": "",
     "output_type": "error",
     "traceback": [
      "\u001b[0;31m---------------------------------------------------------------------------\u001b[0m",
      "\u001b[0;31mKeyboardInterrupt\u001b[0m                         Traceback (most recent call last)",
      "\u001b[0;32m<ipython-input-33-c347cbd68b96>\u001b[0m in \u001b[0;36m<module>\u001b[0;34m()\u001b[0m\n\u001b[1;32m      1\u001b[0m mean_train_loss, mean_val_loss, mean_train_metric, mean_val_metric = train(model, optimizer, train_data, \n\u001b[0;32m----> 2\u001b[0;31m                                                                            test_data, params, accuracy_score)\n\u001b[0m",
      "\u001b[0;32m<ipython-input-32-c4edc1843e4d>\u001b[0m in \u001b[0;36mtrain\u001b[0;34m(model, optimizer, train_data, val_data, params, metric, criterion, variable_created_by_model)\u001b[0m\n\u001b[1;32m     16\u001b[0m         \u001b[0mstart_time\u001b[0m \u001b[0;34m=\u001b[0m \u001b[0mtime\u001b[0m\u001b[0;34m.\u001b[0m\u001b[0mtime\u001b[0m\u001b[0;34m(\u001b[0m\u001b[0;34m)\u001b[0m\u001b[0;34m\u001b[0m\u001b[0m\n\u001b[1;32m     17\u001b[0m         train_loss, train_preds, train_targets = train_one_epoch(\n\u001b[0;32m---> 18\u001b[0;31m             model, optimizer, train_data, params, criterion, variable_created_by_model)\n\u001b[0m\u001b[1;32m     19\u001b[0m         \u001b[0mprint\u001b[0m\u001b[0;34m(\u001b[0m\u001b[0;34m\"train epoch - {:.3f}s\"\u001b[0m\u001b[0;34m.\u001b[0m\u001b[0mformat\u001b[0m\u001b[0;34m(\u001b[0m\u001b[0mtime\u001b[0m\u001b[0;34m.\u001b[0m\u001b[0mtime\u001b[0m\u001b[0;34m(\u001b[0m\u001b[0;34m)\u001b[0m \u001b[0;34m-\u001b[0m \u001b[0mstart_time\u001b[0m\u001b[0;34m)\u001b[0m\u001b[0;34m)\u001b[0m\u001b[0;34m\u001b[0m\u001b[0m\n\u001b[1;32m     20\u001b[0m         \u001b[0mstart_time\u001b[0m \u001b[0;34m=\u001b[0m \u001b[0mtime\u001b[0m\u001b[0;34m.\u001b[0m\u001b[0mtime\u001b[0m\u001b[0;34m(\u001b[0m\u001b[0;34m)\u001b[0m\u001b[0;34m\u001b[0m\u001b[0m\n",
      "\u001b[0;32m<ipython-input-30-6876846dad49>\u001b[0m in \u001b[0;36mtrain_one_epoch\u001b[0;34m(model, optimizer, train_data, params, criterion, variable_created_by_model)\u001b[0m\n\u001b[1;32m     17\u001b[0m \u001b[0;34m\u001b[0m\u001b[0m\n\u001b[1;32m     18\u001b[0m         \u001b[0mstart_time\u001b[0m \u001b[0;34m=\u001b[0m \u001b[0mtime\u001b[0m\u001b[0;34m.\u001b[0m\u001b[0mtime\u001b[0m\u001b[0;34m(\u001b[0m\u001b[0;34m)\u001b[0m\u001b[0;34m\u001b[0m\u001b[0m\n\u001b[0;32m---> 19\u001b[0;31m         \u001b[0moptimizer\u001b[0m\u001b[0;34m.\u001b[0m\u001b[0mzero_grad\u001b[0m\u001b[0;34m(\u001b[0m\u001b[0;34m)\u001b[0m\u001b[0;34m\u001b[0m\u001b[0m\n\u001b[0m\u001b[1;32m     20\u001b[0m         \u001b[0mbatch_output\u001b[0m \u001b[0;34m=\u001b[0m \u001b[0mmodel\u001b[0m\u001b[0;34m(\u001b[0m\u001b[0mbatch_input\u001b[0m\u001b[0;34m)\u001b[0m\u001b[0;34m\u001b[0m\u001b[0m\n\u001b[1;32m     21\u001b[0m         \u001b[0;31m# print(\"forward pass - {:3f}s\".format(time.time() - start_time))\u001b[0m\u001b[0;34m\u001b[0m\u001b[0;34m\u001b[0m\u001b[0m\n",
      "\u001b[0;32m~/anaconda3/lib/python3.6/site-packages/torch/optim/optimizer.py\u001b[0m in \u001b[0;36mzero_grad\u001b[0;34m(self)\u001b[0m\n\u001b[1;32m    161\u001b[0m                 \u001b[0;32mif\u001b[0m \u001b[0mp\u001b[0m\u001b[0;34m.\u001b[0m\u001b[0mgrad\u001b[0m \u001b[0;32mis\u001b[0m \u001b[0;32mnot\u001b[0m \u001b[0;32mNone\u001b[0m\u001b[0;34m:\u001b[0m\u001b[0;34m\u001b[0m\u001b[0m\n\u001b[1;32m    162\u001b[0m                     \u001b[0mp\u001b[0m\u001b[0;34m.\u001b[0m\u001b[0mgrad\u001b[0m\u001b[0;34m.\u001b[0m\u001b[0mdetach_\u001b[0m\u001b[0;34m(\u001b[0m\u001b[0;34m)\u001b[0m\u001b[0;34m\u001b[0m\u001b[0m\n\u001b[0;32m--> 163\u001b[0;31m                     \u001b[0mp\u001b[0m\u001b[0;34m.\u001b[0m\u001b[0mgrad\u001b[0m\u001b[0;34m.\u001b[0m\u001b[0mzero_\u001b[0m\u001b[0;34m(\u001b[0m\u001b[0;34m)\u001b[0m\u001b[0;34m\u001b[0m\u001b[0m\n\u001b[0m\u001b[1;32m    164\u001b[0m \u001b[0;34m\u001b[0m\u001b[0m\n\u001b[1;32m    165\u001b[0m     \u001b[0;32mdef\u001b[0m \u001b[0mstep\u001b[0m\u001b[0;34m(\u001b[0m\u001b[0mself\u001b[0m\u001b[0;34m,\u001b[0m \u001b[0mclosure\u001b[0m\u001b[0;34m)\u001b[0m\u001b[0;34m:\u001b[0m\u001b[0;34m\u001b[0m\u001b[0m\n",
      "\u001b[0;31mKeyboardInterrupt\u001b[0m: "
     ]
    }
   ],
   "source": [
    "mean_train_loss, mean_val_loss, mean_train_metric, mean_val_metric = train(model, optimizer, train_data, \n",
    "                                                                           test_data, params, accuracy_score)"
   ]
  },
  {
   "cell_type": "code",
   "execution_count": null,
   "metadata": {},
   "outputs": [],
   "source": []
  }
 ],
 "metadata": {
  "kernelspec": {
   "display_name": "Python 3",
   "language": "python",
   "name": "python3"
  },
  "language_info": {
   "codemirror_mode": {
    "name": "ipython",
    "version": 3
   },
   "file_extension": ".py",
   "mimetype": "text/x-python",
   "name": "python",
   "nbconvert_exporter": "python",
   "pygments_lexer": "ipython3",
   "version": "3.6.5"
  }
 },
 "nbformat": 4,
 "nbformat_minor": 2
}
